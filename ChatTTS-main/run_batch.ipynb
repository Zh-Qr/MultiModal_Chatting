{
 "cells": [
  {
   "cell_type": "code",
   "execution_count": null,
   "id": "4f07be31",
   "metadata": {},
   "outputs": [],
   "source": [
    "import torch\n",
    "# torch._dynamo.config.cache_size_limit = 64\n",
    "# torch._dynamo.config.suppress_errors = True\n",
    "# torch.set_float32_matmul_precision('high')\n",
    "\n",
    "import ChatTTS\n",
    "from IPython.display import Audio\n",
    "\n",
    "print(\"done\")"
   ]
  },
  {
   "cell_type": "code",
   "execution_count": null,
   "id": "8d37e67a",
   "metadata": {},
   "outputs": [],
   "source": [
    "chat = ChatTTS.Chat()\n",
    "# chat.load_models(force_redownload=True)\n",
    "local_path = '项目2-大模型应用创意设计/ChatTTS-main'\n",
    "chat.load_models(source='local', local_path=local_path)"
   ]
  },
  {
   "cell_type": "code",
   "execution_count": 10,
   "id": "5279f8a0",
   "metadata": {},
   "outputs": [],
   "source": [
    "filename=\"results/project2_audio/\""
   ]
  },
  {
   "cell_type": "code",
   "execution_count": 2,
   "id": "af341633",
   "metadata": {},
   "outputs": [],
   "source": [
    "results = [\"浙江大学软件学院是浙江大学的一个学院，现属于信息学部。\",\n",
    "       \"学院前身是于2001年2月27日在杭州与宁波两地同时挂牌成立的浙江大学软件与网络学院\",\n",
    "       \"2001年12月学院成为教育部和国家发展计划委员会批准的首批35所国家示范性软件学院之一，并更名为软件学院。\"\n",
    "       \"浙江大学成立于1897年，前身求是书院，是中国人最早自己创办的新式高等学府之一。是首批进入国家211工程和985工程建设的重点大学之一。\"\n",
    "       \"浙江大学师资队伍整体力量雄厚。现有中国科学院院士15名，中国工程院院士12名，973项目首席科学家9名，杰出青年基金获得者67名。\"\n",
    "       \"高水平的研究生导师队伍和良好的科研实验条件，为开展高水平的研究生教育打下了坚实的基础。\"]"
   ]
  },
  {
   "cell_type": "code",
   "execution_count": null,
   "id": "36fa6f03",
   "metadata": {},
   "outputs": [],
   "source": [
    "import soundfile as sf\n",
    "import numpy as np\n",
    "import os\n",
    "print(\"当前工作目录:\", os.getcwd())\n",
    "\n",
    "\n",
    "def save_audio(audio_data, sample_rate, filename):\n",
    "    # 确保数据是正确的二维形状，对于单声道\n",
    "    if audio_data.ndim == 2 and audio_data.shape[0] == 1:\n",
    "        audio_data = audio_data.T  # 转置数据以获得正确的形状\n",
    "\n",
    "    print(\"修正后的数据形状:\", audio_data.shape)\n",
    "\n",
    "    # 规范化音频数据到 [-1.0, 1.0]（如果需要）\n",
    "    max_val = np.max(np.abs(audio_data))\n",
    "    if max_val > 1.0:\n",
    "        audio_data = audio_data / max_val\n",
    "\n",
    "    # 尝试保存文件\n",
    "    try:\n",
    "        sf.write(filename, audio_data, sample_rate, subtype='FLOAT')\n",
    "        print(f\"音频已保存到 {filename}\")\n",
    "    except Exception as e:\n",
    "        print(\"保存失败:\", e)\n",
    "\n",
    "# 假设 `wav` 是从你的模型中得到的音频数据列表，采样率为24000 Hz\n",
    "# 调用 save_audio 函数保存第一个音频\n",
    "index = 1\n",
    "for result in results:\n",
    "    params_infer_code = {'prompt':'[speed_3]', 'temperature':.2}\n",
    "    params_refine_text = {'prompt':'[oral_3][laugh_0][break_6]'}\n",
    "    wav = chat.infer(result, \\\n",
    "        params_refine_text=params_refine_text, params_infer_code=params_infer_code)\n",
    "    filename = filename + \"output\"+str(index)+\".wav\"\n",
    "    save_audio(wav[0], 24000,filename)\n",
    "    index = index+1"
   ]
  }
 ],
 "metadata": {
  "kernelspec": {
   "display_name": "Python 3",
   "language": "python",
   "name": "python3"
  },
  "language_info": {
   "codemirror_mode": {
    "name": "ipython",
    "version": 3
   },
   "file_extension": ".py",
   "mimetype": "text/x-python",
   "name": "python",
   "nbconvert_exporter": "python",
   "pygments_lexer": "ipython3",
   "version": "3.9.5"
  }
 },
 "nbformat": 4,
 "nbformat_minor": 5
}
